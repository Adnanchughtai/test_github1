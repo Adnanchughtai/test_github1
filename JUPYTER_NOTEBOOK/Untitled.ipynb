{
 "cells": [
  {
   "cell_type": "markdown",
   "id": "e5464777",
   "metadata": {},
   "source": [
    "# Python ka chilla with baba aammar\n",
    "## how to use jupyter note book\n",
    "### Basics of Python\n",
    "### **01- My first Program**"
   ]
  },
  {
   "cell_type": "code",
   "execution_count": 1,
   "id": "f3c7f185",
   "metadata": {},
   "outputs": [
    {
     "name": "stdout",
     "output_type": "stream",
     "text": [
      "5\n",
      "Hello world\n",
      "I am Pakistani\n"
     ]
    }
   ],
   "source": [
    "# My_first program in Python\n",
    "print(2+3)\n",
    "print(\"Hello world\")\n",
    "print(\"I am Pakistani\")"
   ]
  },
  {
   "cell_type": "markdown",
   "id": "f9dd33ed",
   "metadata": {},
   "source": [
    "### **02- Operators**"
   ]
  },
  {
   "cell_type": "code",
   "execution_count": 2,
   "id": "c37ba00e",
   "metadata": {},
   "outputs": [
    {
     "name": "stdout",
     "output_type": "stream",
     "text": [
      "1\n",
      "6\n",
      "1.5\n",
      "1\n",
      "7\n",
      "1\n",
      "6\n",
      "9\n",
      "8.8\n"
     ]
    }
   ],
   "source": [
    "print(3-2)\n",
    "print(3*2)\n",
    "print(3/2)\n",
    "print(3//2)\n",
    "print(5+2)\n",
    "print(13%2)\n",
    "print(3*2)\n",
    "print(3**2)\n",
    "\n",
    "print(2*3/2-1/5+6)\n",
    "\n"
   ]
  },
  {
   "cell_type": "markdown",
   "id": "a6258a77",
   "metadata": {},
   "source": [
    "*PEMDAS\n",
    "Parenthesis exponents multiplication divide addition and subtraction\n",
    "left to right sequence from M D & A S*"
   ]
  },
  {
   "cell_type": "markdown",
   "id": "ea60c6cc",
   "metadata": {},
   "source": [
    "### **03- Strings**"
   ]
  },
  {
   "cell_type": "code",
   "execution_count": 3,
   "id": "2f06c38d",
   "metadata": {
    "scrolled": true
   },
   "outputs": [
    {
     "name": "stdout",
     "output_type": "stream",
     "text": [
      "Hello world\n",
      "I am Pakistani\n",
      "Adnan 1\n",
      "Adnan 2\n",
      "Adnan 3\n",
      "What's up?\n"
     ]
    }
   ],
   "source": [
    "print(\"Hello world\")\n",
    "print(\"I am Pakistani\")\n",
    "print('Adnan 1')\n",
    "print(\"Adnan 2\")\n",
    "print('''Adnan 3''')\n",
    "print(\"What's up?\")"
   ]
  },
  {
   "cell_type": "markdown",
   "id": "5da8e45c",
   "metadata": {},
   "source": [
    "### **04- Comments**\n",
    "The shortcut key to comments is  **ctrl+/**"
   ]
  },
  {
   "cell_type": "code",
   "execution_count": 4,
   "id": "c1124104",
   "metadata": {},
   "outputs": [
    {
     "name": "stdout",
     "output_type": "stream",
     "text": [
      "How are you?\n",
      "We are learning with python with adnan\n",
      "20\n"
     ]
    }
   ],
   "source": [
    "print(\"How are you?\")   #press these to comment out   \n",
    "print(\"We are learning with python with adnan\")\n",
    "print(10+10) # prints operators dunction with numbers"
   ]
  },
  {
   "cell_type": "markdown",
   "id": "703280d6",
   "metadata": {},
   "source": [
    "### **05- Variables**"
   ]
  },
  {
   "cell_type": "code",
   "execution_count": 5,
   "id": "abd384e3",
   "metadata": {},
   "outputs": [
    {
     "name": "stdout",
     "output_type": "stream",
     "text": [
      "5\n",
      "we are learning python with adnan\n",
      "15\n",
      "<class 'str'>\n",
      "Mangoes\n"
     ]
    }
   ],
   "source": [
    "# # Variables: objects contaning specific values\n",
    "x = 5 #numeric or integer value\n",
    "print(x) \n",
    "\n",
    "y = \"we are learning python with adnan\" # string variable\n",
    "print(y)\n",
    "\n",
    "x = x+10 #or x = 15\n",
    "print(x)\n",
    "\n",
    "# #types of variables\n",
    "# type(x)\n",
    "# print(type(x))\n",
    "\n",
    "# print(type(y))\n",
    "\n",
    "# print_type_class\n",
    "\n",
    "#Rules to assign a variable\n",
    "#1- The variable should contain letters, numbers or underscores\n",
    "#2- Do not start with numbers\n",
    "#3- Sapces are not allowed\n",
    "#4- Do not use key words in functions (break, mean, media, test etc.)\n",
    "#5- short and descriptive\n",
    "#6- case sensitivity (Lowercase, uppercase letters lower case letters should be used)\n",
    "\n",
    "\n",
    "fruit_basket= 8\n",
    "fruit_basket = \"Mangoes\"\n",
    "print(type(fruit_basket))\n",
    "print(fruit_basket)"
   ]
  },
  {
   "cell_type": "markdown",
   "id": "0b833aa9",
   "metadata": {},
   "source": [
    "### **06- Input Variables**"
   ]
  },
  {
   "cell_type": "code",
   "execution_count": 6,
   "id": "f6cadca8",
   "metadata": {},
   "outputs": [
    {
     "name": "stdout",
     "output_type": "stream",
     "text": [
      "Mangoes\n",
      "what is your favourite fruit? Mangoes\n",
      "Mangoes\n",
      "What is your name? Adnan\n",
      "Hello! Adnan\n",
      "What is your name? Adnan\n",
      "Hello! Adnan\n",
      "What is your name? Adnan\n",
      "How old are you? 27\n",
      "Hello! Adnan , You are still young\n"
     ]
    }
   ],
   "source": [
    "fruit_basket=\"Mangoes\"\n",
    "print(fruit_basket)\n",
    "\n",
    "# # input function\n",
    "fruit_basket=input(\"what is your favourite fruit? \")\n",
    "print(fruit_basket)\n",
    "\n",
    "#input function of 2nd stage\n",
    "name= input(\"What is your name? \")\n",
    "greetings = \"Hello!\"\n",
    "print(greetings, name)\n",
    "\n",
    "#another way of stage 2 input function\n",
    "name= input(\"What is your name? \")\n",
    "print(\"Hello!\", name)\n",
    "\n",
    "#3rd stage input function\n",
    "name = input(\"What is your name? \")\n",
    "age= input(\"How old are you? \")\n",
    "greetings=\"Hello!\"\n",
    "\n",
    "print(greetings, name, \", You are still young\")\n",
    "# input_adnan_you are still young"
   ]
  },
  {
   "cell_type": "markdown",
   "id": "6ba28b56",
   "metadata": {},
   "source": [
    "### **07- Conditional Logics**"
   ]
  },
  {
   "cell_type": "code",
   "execution_count": 7,
   "id": "86c53ccd",
   "metadata": {},
   "outputs": [
    {
     "name": "stdout",
     "output_type": "stream",
     "text": [
      "True\n",
      "False\n",
      "True\n",
      "False\n",
      "False\n",
      "True\n",
      "False\n",
      "How old is Adnan? 4\n",
      "<class 'int'>\n",
      "False\n"
     ]
    }
   ],
   "source": [
    "#logical operators are either \"true or false\", \"yes or no\", \"0 or 1\"\n",
    "# equal to                      ==\n",
    "# less than                     <\n",
    "# greater than                  >\n",
    "# less than and equal to       <=\n",
    "# greater than and equal to     >=\n",
    "\n",
    "\n",
    "#is 4 equal to 4?\n",
    "print(4==4)\n",
    "print(4!=4)\n",
    "print(4>3)\n",
    "print(3>6)\n",
    "print(3>=5)\n",
    "print(5>=4)\n",
    "\n",
    "# application of logical operators\n",
    "adnan_age=4\n",
    "age_at_school=5\n",
    "print(adnan_age==age_at_school)\n",
    "\n",
    "#input function and logical operator\n",
    "age_at_school=5\n",
    "adnan_age=input(\"How old is Adnan? \") #input function\n",
    "adnan_age=int(adnan_age)\n",
    "print(type(adnan_age))\n",
    "print(adnan_age==age_at_school) #logical operator\n",
    "\n",
    "#convert input"
   ]
  },
  {
   "cell_type": "markdown",
   "id": "5c5e8b28",
   "metadata": {},
   "source": [
    "### **08- Type Conversion**"
   ]
  },
  {
   "cell_type": "code",
   "execution_count": 8,
   "id": "a69bed74",
   "metadata": {},
   "outputs": [
    {
     "name": "stdout",
     "output_type": "stream",
     "text": [
      "10.2 Type of x is: <class 'float'>\n",
      "What is your age? 27\n",
      "27 <class 'int'>\n",
      "What is your name? Adnan\n",
      "Adnan <class 'str'>\n"
     ]
    }
   ],
   "source": [
    "x = 10.2              #integer\n",
    "y = 10            #float\n",
    "z = \"Hello!\"        #string\n",
    "\n",
    "# #implicit type conversion\n",
    "y= x+y\n",
    "print(x, \"Type of x is:\", type(x))\n",
    "\n",
    "#explicit type conversion\n",
    "age=input(\"What is your age? \")\n",
    "age=int(age)\n",
    "print(age, type(int(age)))\n",
    "\n",
    "#name\n",
    "name=input(\"What is your name? \")\n",
    "print(name, type(str(name)))\n",
    "\n",
    "#type_conversion"
   ]
  },
  {
   "cell_type": "markdown",
   "id": "3d7afc65",
   "metadata": {},
   "source": [
    "### **09- if else elif**"
   ]
  },
  {
   "cell_type": "code",
   "execution_count": 9,
   "id": "f66d8485",
   "metadata": {},
   "outputs": [
    {
     "name": "stdout",
     "output_type": "stream",
     "text": [
      "You should take care of adnan, he is still a baby\n"
     ]
    }
   ],
   "source": [
    "Adnan_age = 2\n",
    "required_age_at_school = 5\n",
    "\n",
    "# question: can adnan go to school\n",
    "\n",
    "if Adnan_age==required_age_at_school:\n",
    "    print(\"Congratulations! Adnan can join the school\")\n",
    "elif Adnan_age > required_age_at_school:\n",
    "    print(\"Adnan should join higher secondary school\")\n",
    "elif Adnan_age<=2:\n",
    "    print(\"You should take care of adnan, he is still a baby\")\n",
    "else:\n",
    "    print(\"Adnan cannot go to school\")\n",
    "\n",
    "# if elif, else statement clear."
   ]
  },
  {
   "cell_type": "markdown",
   "id": "1e14a73a",
   "metadata": {},
   "source": [
    "### **10- Functions**"
   ]
  },
  {
   "cell_type": "code",
   "execution_count": 10,
   "id": "371a0aba",
   "metadata": {},
   "outputs": [
    {
     "name": "stdout",
     "output_type": "stream",
     "text": [
      "We are learning with Adnan\n",
      "We are learning with Adnan\n",
      "We are learning with Adnan\n",
      "We are learning with Adnan\n",
      "We are learning with Adnan\n",
      "We are learning with Adnan\n",
      "We are learning python with Adnan in codanics youtube channel\n",
      "We are learning python with Adnan in codanics youtube channel\n",
      "We are learning python with Adnan in codanics youtube channel\n",
      "Adnan is still a baby\n",
      "38\n"
     ]
    }
   ],
   "source": [
    "# defining a functions\n",
    "# 1\n",
    "def print_codanics():\n",
    "    print(\"We are learning with Adnan\")\n",
    "    print(\"We are learning with Adnan\")\n",
    "    print(\"We are learning with Adnan\")\n",
    "\n",
    "print_codanics()\n",
    "\n",
    "2\n",
    "def print_codanics():\n",
    "    text = \"We are learning with Adnan\"\n",
    "    print(text)\n",
    "    print(text)\n",
    "    print(text)\n",
    "print_codanics()\n",
    "\n",
    "3\n",
    "def print_codanics(text):\n",
    "    print(text)\n",
    "    print(text)\n",
    "    print(text)\n",
    "\n",
    "print_codanics (\"We are learning python with Adnan in codanics youtube channel\")\n",
    "\n",
    "\n",
    "# defifning a function with if, elif and else statements\n",
    "\n",
    "def school_calculator(age):\n",
    "    if age==5:\n",
    "        print(\"Adnan can join the school\")\n",
    "    elif age>5:\n",
    "        print(\"Adnan should go to higher school\")\n",
    "    else:\n",
    "        print(\"Adnan is still a baby\")\n",
    "\n",
    "school_calculator(2)\n",
    "\n",
    "\n",
    "# defining a function of future\n",
    "\n",
    "def future_age(age):\n",
    "    new_age = age+20\n",
    "    return new_age\n",
    "    print(new_age)\n",
    "\n",
    "future_predicted_age=future_age(18)\n",
    "print(future_predicted_age)"
   ]
  },
  {
   "cell_type": "markdown",
   "id": "346654c7",
   "metadata": {},
   "source": [
    "### **11- Loops**"
   ]
  },
  {
   "cell_type": "code",
   "execution_count": 11,
   "id": "1359903e",
   "metadata": {},
   "outputs": [
    {
     "name": "stdout",
     "output_type": "stream",
     "text": [
      "0\n",
      "1\n",
      "2\n",
      "3\n",
      "4\n",
      "5\n",
      "4\n",
      "5\n",
      "6\n",
      "7\n",
      "8\n",
      "9\n",
      "10\n",
      "Mon\n",
      "Tue\n",
      "Wed\n",
      "Thu\n",
      "Sta\n",
      "Sun\n"
     ]
    }
   ],
   "source": [
    "#while and for loops\n",
    "#while loops\n",
    "\n",
    "x = 0\n",
    "while (x<=5):\n",
    "    print(x)\n",
    "    x=x+1\n",
    "\n",
    "#for loop\n",
    "\n",
    "for x in range(4,11):\n",
    "    print(x)\n",
    "\n",
    "# array\n",
    "days = [\"Mon\", \"Tue\", \"Wed\", \"Thu\", \"Fri\", \"Sta\", \"Sun\"]\n",
    "\n",
    "for d in days:\n",
    "    # if (d==\"Fri\"):break #loop stops\n",
    "    if (d==\"Fri\"):continue #Skips d\n",
    "    print(d)"
   ]
  },
  {
   "cell_type": "markdown",
   "id": "c6e36b75",
   "metadata": {},
   "source": [
    "### **12- Import libraries**"
   ]
  },
  {
   "cell_type": "code",
   "execution_count": 12,
   "id": "019f6f83",
   "metadata": {},
   "outputs": [
    {
     "name": "stdout",
     "output_type": "stream",
     "text": [
      "The value of pi is 3.141592653589793\n",
      "300\n"
     ]
    }
   ],
   "source": [
    "#if you want to print the value of pi\n",
    "\n",
    "import math\n",
    "print(\"The value of pi is\", math.pi)\n",
    "\n",
    "import statistics\n",
    "x=[150,250,350,450]\n",
    "print(statistics.mean(x))\n",
    "\n",
    "# numpy, pandas"
   ]
  },
  {
   "cell_type": "markdown",
   "id": "a0b7c0ee",
   "metadata": {},
   "source": [
    "### **13- Trouble Shooting**"
   ]
  },
  {
   "cell_type": "code",
   "execution_count": 13,
   "id": "a168234a",
   "metadata": {},
   "outputs": [
    {
     "name": "stdout",
     "output_type": "stream",
     "text": [
      "Hello Adnan\n"
     ]
    }
   ],
   "source": [
    "#print(\"we are learning python with aammar\")  #syntax error\n",
    "\n",
    "# print(25/0) #runtime error\n",
    "\n",
    "\n",
    "name = \"Adnan\"\n",
    "\n",
    "print(\"Hello \"+ name)\n",
    "\n",
    "#trouble shooting is easy"
   ]
  },
  {
   "cell_type": "code",
   "execution_count": null,
   "id": "b94371a8",
   "metadata": {},
   "outputs": [],
   "source": []
  }
 ],
 "metadata": {
  "kernelspec": {
   "display_name": "Python 3 (ipykernel)",
   "language": "python",
   "name": "python3"
  },
  "language_info": {
   "codemirror_mode": {
    "name": "ipython",
    "version": 3
   },
   "file_extension": ".py",
   "mimetype": "text/x-python",
   "name": "python",
   "nbconvert_exporter": "python",
   "pygments_lexer": "ipython3",
   "version": "3.9.12"
  }
 },
 "nbformat": 4,
 "nbformat_minor": 5
}
